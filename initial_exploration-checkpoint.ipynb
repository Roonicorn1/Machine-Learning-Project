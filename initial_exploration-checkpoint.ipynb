{
 "cells": [
  {
   "cell_type": "markdown",
   "metadata": {},
   "source": [
    "# Initial Exploration for insurance data"
   ]
  },
  {
   "cell_type": "markdown",
   "metadata": {},
   "source": [
    "### Dataset"
   ]
  },
  {
   "cell_type": "code",
   "execution_count": 1,
   "metadata": {},
   "outputs": [
    {
     "ename": "FileNotFoundError",
     "evalue": "File b'car_insurance.csv' does not exist",
     "output_type": "error",
     "traceback": [
      "Traceback \u001b[1;36m(most recent call last)\u001b[0m:\n",
      "  File \u001b[0;32m\"<ipython-input-1-5f105dcb01d0>\"\u001b[0m, line \u001b[0;32m2\u001b[0m, in \u001b[0;35m<module>\u001b[0m\n    data_frame = pd.read_csv(\"car_insurance.csv\")\n",
      "  File \u001b[0;32m\"C:\\Users\\s520844\\AppData\\Local\\Continuum\\anaconda3\\lib\\site-packages\\pandas\\io\\parsers.py\"\u001b[0m, line \u001b[0;32m678\u001b[0m, in \u001b[0;35mparser_f\u001b[0m\n    return _read(filepath_or_buffer, kwds)\n",
      "  File \u001b[0;32m\"C:\\Users\\s520844\\AppData\\Local\\Continuum\\anaconda3\\lib\\site-packages\\pandas\\io\\parsers.py\"\u001b[0m, line \u001b[0;32m440\u001b[0m, in \u001b[0;35m_read\u001b[0m\n    parser = TextFileReader(filepath_or_buffer, **kwds)\n",
      "  File \u001b[0;32m\"C:\\Users\\s520844\\AppData\\Local\\Continuum\\anaconda3\\lib\\site-packages\\pandas\\io\\parsers.py\"\u001b[0m, line \u001b[0;32m787\u001b[0m, in \u001b[0;35m__init__\u001b[0m\n    self._make_engine(self.engine)\n",
      "  File \u001b[0;32m\"C:\\Users\\s520844\\AppData\\Local\\Continuum\\anaconda3\\lib\\site-packages\\pandas\\io\\parsers.py\"\u001b[0m, line \u001b[0;32m1014\u001b[0m, in \u001b[0;35m_make_engine\u001b[0m\n    self._engine = CParserWrapper(self.f, **self.options)\n",
      "  File \u001b[0;32m\"C:\\Users\\s520844\\AppData\\Local\\Continuum\\anaconda3\\lib\\site-packages\\pandas\\io\\parsers.py\"\u001b[0m, line \u001b[0;32m1708\u001b[0m, in \u001b[0;35m__init__\u001b[0m\n    self._reader = parsers.TextReader(src, **kwds)\n",
      "  File \u001b[0;32m\"pandas\\_libs\\parsers.pyx\"\u001b[0m, line \u001b[0;32m384\u001b[0m, in \u001b[0;35mpandas._libs.parsers.TextReader.__cinit__\u001b[0m\n",
      "\u001b[1;36m  File \u001b[1;32m\"pandas\\_libs\\parsers.pyx\"\u001b[1;36m, line \u001b[1;32m695\u001b[1;36m, in \u001b[1;35mpandas._libs.parsers.TextReader._setup_parser_source\u001b[1;36m\u001b[0m\n",
      "\u001b[1;31mFileNotFoundError\u001b[0m\u001b[1;31m:\u001b[0m File b'car_insurance.csv' does not exist\n"
     ]
    }
   ],
   "source": [
    "import pandas as pd\n",
    "data_frame = pd.read_csv(\"car_insurance.csv\")"
   ]
  }
 ],
 "metadata": {
  "kernelspec": {
   "display_name": "Python 3 (Spyder)",
   "language": "python3",
   "name": "python3"
  },
  "language_info": {
   "codemirror_mode": {
    "name": "ipython",
    "version": 3
   },
   "file_extension": ".py",
   "mimetype": "text/x-python",
   "name": "python",
   "nbconvert_exporter": "python",
   "pygments_lexer": "ipython3",
   "version": "3.7.1"
  }
 },
 "nbformat": 4,
 "nbformat_minor": 2
}

{
 "cells": [
  {
   "cell_type": "markdown",
   "metadata": {},
   "source": [
    "# Classification  \n",
    "The following is the classification for the dataset"
   ]
  },
  {
   "cell_type": "markdown",
   "metadata": {},
   "source": [
    "## 1. Data Aquisition and Cleaning"
   ]
  },
  {
   "cell_type": "code",
   "execution_count": 2,
   "metadata": {},
   "outputs": [
    {
     "name": "stdout",
     "output_type": "stream",
     "text": [
      "<class 'pandas.core.frame.DataFrame'>\n",
      "Int64Index: 72884 entries, 0 to 74000\n",
      "Data columns (total 11 columns):\n",
      "TractId            72884 non-null int64\n",
      "TotalPop           72884 non-null int64\n",
      "Income             72884 non-null float64\n",
      "IncomeErr          72884 non-null float64\n",
      "IncomePerCap       72884 non-null float64\n",
      "IncomePerCapErr    72884 non-null float64\n",
      "Professional       72884 non-null float64\n",
      "Service            72884 non-null float64\n",
      "Office             72884 non-null float64\n",
      "Construction       72884 non-null float64\n",
      "Production         72884 non-null float64\n",
      "dtypes: float64(9), int64(2)\n",
      "memory usage: 6.7 MB\n",
      "None\n"
     ]
    }
   ],
   "source": [
    "import pandas as pd\n",
    "data_frame = pd.read_csv(\"acs2017_census_tract_data.csv\")\n",
    "copy = data_frame.copy()\n",
    "copy.drop(labels=\"Poverty\", axis=\"columns\", inplace=True)\n",
    "copy.drop(labels=\"State\", axis=\"columns\", inplace=True)\n",
    "copy.drop(labels=\"County\", axis=\"columns\", inplace=True)\n",
    "copy.drop(labels=\"Men\", axis=\"columns\", inplace=True)\n",
    "copy.drop(labels=\"Women\", axis=\"columns\", inplace=True)\n",
    "copy.drop(labels=\"Hispanic\", axis=\"columns\", inplace=True)\n",
    "copy.drop(labels=\"White\", axis=\"columns\", inplace=True)\n",
    "copy.drop(labels=\"Native\", axis=\"columns\", inplace=True)\n",
    "copy.drop(labels=\"Pacific\", axis=\"columns\", inplace=True)\n",
    "copy.drop(labels=\"Asian\", axis=\"columns\", inplace=True)\n",
    "copy.drop(labels=\"VotingAgeCitizen\", axis=\"columns\", inplace=True)\n",
    "copy.drop(labels=\"ChildPoverty\", axis=\"columns\", inplace=True)\n",
    "copy.drop(labels=\"Black\", axis=\"columns\", inplace=True)\n",
    "copy.drop(labels=\"Drive\", axis=\"columns\", inplace=True)\n",
    "copy.drop(labels=\"Carpool\", axis=\"columns\", inplace=True)\n",
    "copy.drop(labels=\"Transit\", axis=\"columns\", inplace=True)\n",
    "copy.drop(labels=\"Walk\", axis=\"columns\", inplace=True)\n",
    "copy.drop(labels=\"OtherTransp\", axis=\"columns\", inplace=True)\n",
    "copy.drop(labels=\"WorkAtHome\", axis=\"columns\", inplace=True)\n",
    "copy.drop(labels=\"MeanCommute\", axis=\"columns\", inplace=True)\n",
    "copy.drop(labels=\"Employed\", axis=\"columns\", inplace=True)\n",
    "copy.drop(labels=\"PrivateWork\", axis=\"columns\", inplace=True)\n",
    "copy.drop(labels=\"PublicWork\", axis=\"columns\", inplace=True)\n",
    "copy.drop(labels=\"SelfEmployed\", axis=\"columns\", inplace=True)\n",
    "copy.drop(labels=\"FamilyWork\", axis=\"columns\", inplace=True)\n",
    "copy.drop(labels=\"Unemployment\", axis=\"columns\", inplace=True)\n",
    "copy.dropna(axis=\"index\", how=\"any\", inplace=True)\n",
    "from sklearn.model_selection import train_test_split\n",
    "train_set, test_set = train_test_split(copy, test_size=0.2, random_state=123)\n",
    "print(copy.info())"
   ]
  },
  {
   "cell_type": "markdown",
   "metadata": {},
   "source": [
    "## 2. Features  \n",
    "I will be working with the features as follows:  \n",
    "X set: Professional, Service, Office, Construction, Production  \n",
    "Y target: Income"
   ]
  },
  {
   "cell_type": "markdown",
   "metadata": {},
   "source": [
    "## 3. Decision Tree"
   ]
  },
  {
   "cell_type": "code",
   "execution_count": 4,
   "metadata": {},
   "outputs": [
    {
     "name": "stdout",
     "output_type": "stream",
     "text": [
      "Accuracy is  0.0171849006122764\n",
      "Precision is  0.0032236625356594677\n"
     ]
    },
    {
     "name": "stderr",
     "output_type": "stream",
     "text": [
      "C:\\Users\\s520844\\AppData\\Local\\Continuum\\anaconda3\\lib\\site-packages\\sklearn\\metrics\\classification.py:1143: UndefinedMetricWarning: Precision is ill-defined and being set to 0.0 in labels with no predicted samples.\n",
      "  'precision', 'predicted', average, warn_for)\n"
     ]
    },
    {
     "name": "stdout",
     "output_type": "stream",
     "text": [
      "Sensitivity is  0.0171849006122764\n",
      "F1 is  0.003662627445906435\n"
     ]
    },
    {
     "name": "stderr",
     "output_type": "stream",
     "text": [
      "C:\\Users\\s520844\\AppData\\Local\\Continuum\\anaconda3\\lib\\site-packages\\sklearn\\metrics\\classification.py:1143: UndefinedMetricWarning: F-score is ill-defined and being set to 0.0 in labels with no predicted samples.\n",
      "  'precision', 'predicted', average, warn_for)\n"
     ]
    }
   ],
   "source": [
    "from sklearn.tree import DecisionTreeClassifier\n",
    "from sklearn.metrics import accuracy_score, precision_score, recall_score, f1_score\n",
    "working_set = train_set.copy()\n",
    "x_data = working_set[[\"Professional\"]]\n",
    "y_data = working_set[\"Income\"]\n",
    "\n",
    "tree_classifier = DecisionTreeClassifier()\n",
    "tree_classifier.fit(x_data,y_data)\n",
    "\n",
    "y_pred = tree_classifier.predict(x_data)\n",
    "print (\"Accuracy is \", accuracy_score(y_data, y_pred))\n",
    "print (\"Precision is \", precision_score(y_data, y_pred, average=\"weighted\"))\n",
    "print (\"Sensitivity is \", recall_score(y_data, y_pred, average=\"weighted\"))\n",
    "print (\"F1 is \", f1_score(y_data, y_pred, average=\"weighted\"))\n"
   ]
  },
  {
   "cell_type": "markdown",
   "metadata": {},
   "source": [
    "## 4. Results  \n",
    "For some reason, I cannot do a decision tree with the x variables I originally chose. I am not sure why this is happening but it is only working with a single variable"
   ]
  },
  {
   "cell_type": "markdown",
   "metadata": {},
   "source": [
    "## 5. SVM"
   ]
  },
  {
   "cell_type": "code",
   "execution_count": null,
   "metadata": {},
   "outputs": [],
   "source": [
    "from sklearn.svm import SVC\n",
    "from sklearn.metrics import confusion_maxtrix\n",
    "x = working_set[[\"Professional\"]]\n",
    "y = working_set[\"Income\"]\n",
    "\n",
    "svm_classifier = SVC(kernel=\"rbf\")\n",
    "svm_classifier.fit(x,y)"
   ]
  },
  {
   "cell_type": "markdown",
   "metadata": {},
   "source": [
    "## 6. Final Evaluation"
   ]
  },
  {
   "cell_type": "code",
   "execution_count": null,
   "metadata": {},
   "outputs": [],
   "source": [
    "from sklearn.metrics import accuracy_score, precision_score, recall_score, f1_score\n",
    "working_set2 = test_set.copy()\n",
    "test_x = working_set2[[\"Professional\"]]\n",
    "test_y = working_set2[\"Income\"]\n",
    "tree_test_y_pred = tree_classifier.predict(text_x)\n",
    "test_y_pred = svm_classifier.predict(test_x)\n",
    "print(\"Tree Classifier Metrics: \")\n",
    "print (\"Accuracy is \", accuracy_score(test_y, tree_test_y_pred))\n",
    "print (\"Precision is \", precision_score(test_y, tree_test_y_pred, average=\"weighted\"))\n",
    "print (\"Sensitivity is \", sensitivity_score(test_y, tree_test_y_pred, average=\"weighted\"))\n",
    "print (\"F1 is \", f1_score(test_y, tree_test_y_pred, average=\"weighted\"))\n",
    "\n",
    "print(\"SVM Metrics: \")\n",
    "print (\"Accuracy is \", accuracy_score(test_y, test_y_pred))\n",
    "print (\"Precision is \", precision_score(test_y, test_y_pred, average=\"weighted\"))\n",
    "print (\"Sensitivity is \", sensitivity_score(test_y, test_y_pred, average=\"weighted\"))\n",
    "print (\"F1 is \", f1_score(test_y, test_y_pred, average=\"weighted\"))"
   ]
  },
  {
   "cell_type": "markdown",
   "metadata": {},
   "source": [
    "## 7. Discussion  \n"
   ]
  },
  {
   "cell_type": "code",
   "execution_count": null,
   "metadata": {},
   "outputs": [],
   "source": []
  }
 ],
 "metadata": {
  "kernelspec": {
   "display_name": "Python 3 (Spyder)",
   "language": "python3",
   "name": "python3"
  },
  "language_info": {
   "codemirror_mode": {
    "name": "ipython",
    "version": 3
   },
   "file_extension": ".py",
   "mimetype": "text/x-python",
   "name": "python",
   "nbconvert_exporter": "python",
   "pygments_lexer": "ipython3",
   "version": "3.7.1"
  }
 },
 "nbformat": 4,
 "nbformat_minor": 2
}

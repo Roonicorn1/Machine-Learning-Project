{
 "cells": [
  {
   "cell_type": "markdown",
   "metadata": {},
   "source": [
    "# Classification  \n",
    "The following is the classification for the dataset"
   ]
  },
  {
   "cell_type": "markdown",
   "metadata": {},
   "source": [
    "## 1. Data Aquisition and Cleaning"
   ]
  },
  {
   "cell_type": "code",
   "execution_count": 1,
   "metadata": {},
   "outputs": [
    {
     "ename": "FileNotFoundError",
     "evalue": "File b'acs2017_census_tract_data.csv' does not exist",
     "output_type": "error",
     "traceback": [
      "Traceback \u001b[1;36m(most recent call last)\u001b[0m:\n",
      "  File \u001b[0;32m\"<ipython-input-1-5254fec514f6>\"\u001b[0m, line \u001b[0;32m2\u001b[0m, in \u001b[0;35m<module>\u001b[0m\n    data_frame = pd.read_csv(\"acs2017_census_tract_data.csv\")\n",
      "  File \u001b[0;32m\"C:\\Users\\s520844\\AppData\\Local\\Continuum\\anaconda3\\lib\\site-packages\\pandas\\io\\parsers.py\"\u001b[0m, line \u001b[0;32m678\u001b[0m, in \u001b[0;35mparser_f\u001b[0m\n    return _read(filepath_or_buffer, kwds)\n",
      "  File \u001b[0;32m\"C:\\Users\\s520844\\AppData\\Local\\Continuum\\anaconda3\\lib\\site-packages\\pandas\\io\\parsers.py\"\u001b[0m, line \u001b[0;32m440\u001b[0m, in \u001b[0;35m_read\u001b[0m\n    parser = TextFileReader(filepath_or_buffer, **kwds)\n",
      "  File \u001b[0;32m\"C:\\Users\\s520844\\AppData\\Local\\Continuum\\anaconda3\\lib\\site-packages\\pandas\\io\\parsers.py\"\u001b[0m, line \u001b[0;32m787\u001b[0m, in \u001b[0;35m__init__\u001b[0m\n    self._make_engine(self.engine)\n",
      "  File \u001b[0;32m\"C:\\Users\\s520844\\AppData\\Local\\Continuum\\anaconda3\\lib\\site-packages\\pandas\\io\\parsers.py\"\u001b[0m, line \u001b[0;32m1014\u001b[0m, in \u001b[0;35m_make_engine\u001b[0m\n    self._engine = CParserWrapper(self.f, **self.options)\n",
      "  File \u001b[0;32m\"C:\\Users\\s520844\\AppData\\Local\\Continuum\\anaconda3\\lib\\site-packages\\pandas\\io\\parsers.py\"\u001b[0m, line \u001b[0;32m1708\u001b[0m, in \u001b[0;35m__init__\u001b[0m\n    self._reader = parsers.TextReader(src, **kwds)\n",
      "  File \u001b[0;32m\"pandas\\_libs\\parsers.pyx\"\u001b[0m, line \u001b[0;32m384\u001b[0m, in \u001b[0;35mpandas._libs.parsers.TextReader.__cinit__\u001b[0m\n",
      "\u001b[1;36m  File \u001b[1;32m\"pandas\\_libs\\parsers.pyx\"\u001b[1;36m, line \u001b[1;32m695\u001b[1;36m, in \u001b[1;35mpandas._libs.parsers.TextReader._setup_parser_source\u001b[1;36m\u001b[0m\n",
      "\u001b[1;31mFileNotFoundError\u001b[0m\u001b[1;31m:\u001b[0m File b'acs2017_census_tract_data.csv' does not exist\n"
     ]
    }
   ],
   "source": [
    "import pandas as pd\n",
    "data_frame = pd.read_csv(\"acs2017_census_tract_data.csv\")\n",
    "copy = data_frame.copy()\n",
    "copy.drop(labels=\"Poverty\", axis=\"columns\", inplace=True)\n",
    "copy.drop(labels=\"State\", axis=\"columns\", inplace=True)\n",
    "copy.drop(labels=\"County\", axis=\"columns\", inplace=True)\n",
    "copy.drop(labels=\"Men\", axis=\"columns\", inplace=True)\n",
    "copy.drop(labels=\"Women\", axis=\"columns\", inplace=True)\n",
    "copy.drop(labels=\"Hispanic\", axis=\"columns\", inplace=True)\n",
    "copy.drop(labels=\"White\", axis=\"columns\", inplace=True)\n",
    "copy.drop(labels=\"Native\", axis=\"columns\", inplace=True)\n",
    "copy.drop(labels=\"Pacific\", axis=\"columns\", inplace=True)\n",
    "copy.drop(labels=\"Asian\", axis=\"columns\", inplace=True)\n",
    "copy.drop(labels=\"VotingAgeCitizen\", axis=\"columns\", inplace=True)\n",
    "copy.drop(labels=\"ChildPoverty\", axis=\"columns\", inplace=True)\n",
    "copy.drop(labels=\"Black\", axis=\"columns\", inplace=True)\n",
    "copy.dropna(axis=\"index\", how=\"any\", inplace=True)\n",
    "from sklearn.model_selection import train_test_split\n",
    "train_set, test_set = train_test_split(copy, test_size=0.2, random_state=123)\n"
   ]
  }
 ],
 "metadata": {
  "kernelspec": {
   "display_name": "Python 3 (Spyder)",
   "language": "python3",
   "name": "python3"
  },
  "language_info": {
   "codemirror_mode": {
    "name": "ipython",
    "version": 3
   },
   "file_extension": ".py",
   "mimetype": "text/x-python",
   "name": "python",
   "nbconvert_exporter": "python",
   "pygments_lexer": "ipython3",
   "version": "3.7.1"
  }
 },
 "nbformat": 4,
 "nbformat_minor": 2
}

{
 "cells": [
  {
   "cell_type": "markdown",
   "metadata": {},
   "source": [
    "# Linear Regression"
   ]
  },
  {
   "cell_type": "markdown",
   "metadata": {},
   "source": [
    "### Data Prep"
   ]
  },
  {
   "cell_type": "code",
   "execution_count": 3,
   "metadata": {},
   "outputs": [],
   "source": [
    "import pandas as pd\n",
    "data_frame = pd.read_csv(\"acs2017_census_tract_data.csv\")\n",
    "copy = data_frame.copy()\n",
    "copy.drop(labels=\"Poverty\", axis=\"columns\", inplace=True)\n",
    "copy.drop(labels=\"IncomeErr\", axis=\"columns\", inplace=True)\n",
    "copy.drop(labels=\"IncomePerCap\", axis=\"columns\", inplace=True)\n",
    "copy.drop(labels=\"IncomePerCapErr\", axis=\"columns\", inplace=True)\n",
    "copy.drop(labels=\"Drive\", axis=\"columns\", inplace=True)\n",
    "copy.drop(labels=\"Carpool\", axis=\"columns\", inplace=True)\n",
    "copy.drop(labels=\"Transit\", axis=\"columns\", inplace=True)\n",
    "copy.drop(labels=\"Walk\", axis=\"columns\", inplace=True)\n",
    "copy.drop(labels=\"OtherTransp\", axis=\"columns\", inplace=True)\n",
    "copy.drop(labels=\"WorkAtHome\", axis=\"columns\", inplace=True)\n",
    "copy.drop(labels=\"MeanCommute\", axis=\"columns\", inplace=True)\n",
    "copy.drop(labels=\"Employed\", axis=\"columns\", inplace=True)\n",
    "copy.drop(labels=\"PrivateWork\", axis=\"columns\", inplace=True)\n",
    "copy.drop(labels=\"PublicWork\", axis=\"columns\", inplace=True)\n",
    "copy.drop(labels=\"SelfEmployed\", axis=\"columns\", inplace=True)\n",
    "copy.drop(labels=\"FamilyWork\", axis=\"columns\", inplace=True)\n",
    "copy.drop(labels=\"Unemployment\", axis=\"columns\", inplace=True)\n",
    "copy.drop(labels=\"State\", axis=\"columns\", inplace=True)\n",
    "copy.drop(labels=\"County\", axis=\"columns\", inplace=True)\n",
    "copy.drop(labels=\"Men\", axis=\"columns\", inplace=True)\n",
    "copy.drop(labels=\"Women\", axis=\"columns\", inplace=True)\n",
    "copy.drop(labels=\"Hispanic\", axis=\"columns\", inplace=True)\n",
    "copy.drop(labels=\"White\", axis=\"columns\", inplace=True)\n",
    "copy.drop(labels=\"Native\", axis=\"columns\", inplace=True)\n",
    "copy.drop(labels=\"Pacific\", axis=\"columns\", inplace=True)\n",
    "copy.drop(labels=\"Asian\", axis=\"columns\", inplace=True)\n",
    "copy.drop(labels=\"VotingAgeCitizen\", axis=\"columns\", inplace=True)\n",
    "copy.drop(labels=\"ChildPoverty\", axis=\"columns\", inplace=True)\n",
    "copy.drop(labels=\"Black\", axis=\"columns\", inplace=True)\n",
    "copy.dropna(axis=\"index\", how=\"any\", inplace=True)\n",
    "from sklearn.model_selection import train_test_split\n",
    "train_set, test_set = train_test_split(copy, test_size=0.2, random_state=123)\n"
   ]
  },
  {
   "cell_type": "markdown",
   "metadata": {},
   "source": [
    "### Initial set of features\n",
    "I would like my x features to be Professional and Office. They are both percentage values as in percentage of the population of a county works in these fields. I would like my y feature to be income. This is the median income of the county and is our predicted value. "
   ]
  },
  {
   "cell_type": "code",
   "execution_count": 4,
   "metadata": {},
   "outputs": [
    {
     "name": "stdout",
     "output_type": "stream",
     "text": [
      "R2:  0.5464934653928941\n",
      "MSE:  421209322.0119561\n"
     ]
    }
   ],
   "source": [
    "working_set = train_set.copy()\n",
    "x_data = working_set[[\"Professional\", \"Office\"]]\n",
    "y_data = working_set[\"Income\"]\n",
    "\n",
    "from sklearn.linear_model import LinearRegression\n",
    "reg = LinearRegression()\n",
    "reg.fit(x_data, y_data)\n",
    "print(\"R2: \", reg.score(x_data, y_data))\n",
    "\n",
    "from sklearn.metrics import mean_squared_error\n",
    "y_pred = reg.predict(x_data)\n",
    "mse = mean_squared_error(y_data, y_pred)\n",
    "print(\"MSE: \",  mse)"
   ]
  },
  {
   "cell_type": "markdown",
   "metadata": {},
   "source": [
    "#### Comments:\n",
    "This data seemed to do alright, 54.38% of the variation in y can be explained by the variation in x. Our MSE is high, perhaps we could get it lower by adding more predictors."
   ]
  },
  {
   "cell_type": "code",
   "execution_count": 5,
   "metadata": {},
   "outputs": [
    {
     "name": "stdout",
     "output_type": "stream",
     "text": [
      "R2:  0.5648742640255335\n"
     ]
    }
   ],
   "source": [
    "x_data2 = working_set[[\"Professional\", \"Office\", \"Service\", \"Construction\"]]\n",
    "\n",
    "reg2 = LinearRegression()\n",
    "reg2.fit(x_data2, y_data)\n",
    "print(\"R2: \", reg2.score(x_data2, y_data))\n",
    "#y_pred2 = reg.predict(x_data2)\n",
    "#mse2 = mean_squared_error(y_data, y_pred2)\n",
    "#print(\"MSE: \",  mse2)"
   ]
  },
  {
   "cell_type": "markdown",
   "metadata": {},
   "source": [
    "### Comments:\n",
    "The R2 value has increased and the MSE has decreased. This is good for the model although it wasn't much of an improvement. The MSE was giving an error so it was removed. "
   ]
  },
  {
   "cell_type": "code",
   "execution_count": 6,
   "metadata": {},
   "outputs": [
    {
     "name": "stdout",
     "output_type": "stream",
     "text": [
      "R2:  0.5553481092898032\n",
      "MSE:  418376886.5929277\n"
     ]
    }
   ],
   "source": [
    "working_set2 = test_set.copy()\n",
    "test_x = working_set2[[\"Professional\", \"Office\", \"Service\", \"Construction\"]]\n",
    "test_y = working_set2[\"Income\"]\n",
    "\n",
    "print(\"R2: \", reg2.score(test_x, test_y))\n",
    "y_pred3 = reg2.predict(test_x)\n",
    "mse3 = mean_squared_error(test_y, y_pred3)\n",
    "print(\"MSE: \", mse3)"
   ]
  },
  {
   "cell_type": "markdown",
   "metadata": {},
   "source": [
    "### Comments: \n",
    "The test set performed well, we were able to predict values more often in the test set than in the training set and the MSE was lower also. "
   ]
  }
 ],
 "metadata": {
  "kernelspec": {
   "display_name": "Python 3 (Spyder)",
   "language": "python3",
   "name": "python3"
  },
  "language_info": {
   "codemirror_mode": {
    "name": "ipython",
    "version": 3
   },
   "file_extension": ".py",
   "mimetype": "text/x-python",
   "name": "python",
   "nbconvert_exporter": "python",
   "pygments_lexer": "ipython3",
   "version": "3.7.1"
  }
 },
 "nbformat": 4,
 "nbformat_minor": 2
}

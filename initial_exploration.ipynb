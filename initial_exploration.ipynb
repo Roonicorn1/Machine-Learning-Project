{
 "cells": [
  {
   "cell_type": "markdown",
   "metadata": {},
   "source": [
    "# Initial Exploration for insurance data"
   ]
  },
  {
   "cell_type": "markdown",
   "metadata": {},
   "source": [
    "### Dataset"
   ]
  },
  {
   "cell_type": "code",
   "execution_count": 6,
   "metadata": {},
   "outputs": [
    {
     "name": "stdout",
     "output_type": "stream",
     "text": [
      "<class 'pandas.core.frame.DataFrame'>\n",
      "RangeIndex: 74001 entries, 0 to 74000\n",
      "Data columns (total 37 columns):\n",
      "TractId             74001 non-null int64\n",
      "State               74001 non-null object\n",
      "County              74001 non-null object\n",
      "TotalPop            74001 non-null int64\n",
      "Men                 74001 non-null int64\n",
      "Women               74001 non-null int64\n",
      "Hispanic            73305 non-null float64\n",
      "White               73305 non-null float64\n",
      "Black               73305 non-null float64\n",
      "Native              73305 non-null float64\n",
      "Asian               73305 non-null float64\n",
      "Pacific             73305 non-null float64\n",
      "VotingAgeCitizen    74001 non-null int64\n",
      "Income              72885 non-null float64\n",
      "IncomeErr           72885 non-null float64\n",
      "IncomePerCap        73256 non-null float64\n",
      "IncomePerCapErr     73256 non-null float64\n",
      "Poverty             73159 non-null float64\n",
      "ChildPoverty        72891 non-null float64\n",
      "Professional        73190 non-null float64\n",
      "Service             73190 non-null float64\n",
      "Office              73190 non-null float64\n",
      "Construction        73190 non-null float64\n",
      "Production          73190 non-null float64\n",
      "Drive               73200 non-null float64\n",
      "Carpool             73200 non-null float64\n",
      "Transit             73200 non-null float64\n",
      "Walk                73200 non-null float64\n",
      "OtherTransp         73200 non-null float64\n",
      "WorkAtHome          73200 non-null float64\n",
      "MeanCommute         73055 non-null float64\n",
      "Employed            74001 non-null int64\n",
      "PrivateWork         73190 non-null float64\n",
      "PublicWork          73190 non-null float64\n",
      "SelfEmployed        73190 non-null float64\n",
      "FamilyWork          73190 non-null float64\n",
      "Unemployment        73191 non-null float64\n",
      "dtypes: float64(29), int64(6), object(2)\n",
      "memory usage: 20.9+ MB\n"
     ]
    }
   ],
   "source": [
    "import pandas as pd\n",
    "data_frame = pd.read_csv(\"acs2017_census_tract_data.csv\")\n",
    "data_frame.info()"
   ]
  },
  {
   "cell_type": "markdown",
   "metadata": {},
   "source": [
    "## Interesting features\n",
    "I would like to predict median income based on a few of the features in the dataset such as Professional, service, office, construction, etc. that seem to be related to income. Poverty would be a poor explanatory variable in this case so it will be left out. "
   ]
  },
  {
   "cell_type": "code",
   "execution_count": 14,
   "metadata": {},
   "outputs": [
    {
     "name": "stdout",
     "output_type": "stream",
     "text": [
      "<class 'pandas.core.frame.DataFrame'>\n",
      "Int64Index: 72851 entries, 0 to 74000\n",
      "Data columns (total 24 columns):\n",
      "TractId            72851 non-null int64\n",
      "TotalPop           72851 non-null int64\n",
      "Income             72851 non-null float64\n",
      "IncomeErr          72851 non-null float64\n",
      "IncomePerCap       72851 non-null float64\n",
      "IncomePerCapErr    72851 non-null float64\n",
      "Professional       72851 non-null float64\n",
      "Service            72851 non-null float64\n",
      "Office             72851 non-null float64\n",
      "Construction       72851 non-null float64\n",
      "Production         72851 non-null float64\n",
      "Drive              72851 non-null float64\n",
      "Carpool            72851 non-null float64\n",
      "Transit            72851 non-null float64\n",
      "Walk               72851 non-null float64\n",
      "OtherTransp        72851 non-null float64\n",
      "WorkAtHome         72851 non-null float64\n",
      "MeanCommute        72851 non-null float64\n",
      "Employed           72851 non-null int64\n",
      "PrivateWork        72851 non-null float64\n",
      "PublicWork         72851 non-null float64\n",
      "SelfEmployed       72851 non-null float64\n",
      "FamilyWork         72851 non-null float64\n",
      "Unemployment       72851 non-null float64\n",
      "dtypes: float64(21), int64(3)\n",
      "memory usage: 13.9 MB\n"
     ]
    }
   ],
   "source": [
    "copy = data_frame.copy()\n",
    "copy.drop(labels=\"Poverty\", axis=\"columns\", inplace=True)\n",
    "copy.drop(labels=\"State\", axis=\"columns\", inplace=True)\n",
    "copy.drop(labels=\"County\", axis=\"columns\", inplace=True)\n",
    "copy.drop(labels=\"Men\", axis=\"columns\", inplace=True)\n",
    "copy.drop(labels=\"Women\", axis=\"columns\", inplace=True)\n",
    "copy.drop(labels=\"Hispanic\", axis=\"columns\", inplace=True)\n",
    "copy.drop(labels=\"White\", axis=\"columns\", inplace=True)\n",
    "copy.drop(labels=\"Native\", axis=\"columns\", inplace=True)\n",
    "copy.drop(labels=\"Pacific\", axis=\"columns\", inplace=True)\n",
    "copy.drop(labels=\"Asian\", axis=\"columns\", inplace=True)\n",
    "copy.drop(labels=\"VotingAgeCitizen\", axis=\"columns\", inplace=True)\n",
    "copy.drop(labels=\"ChildPoverty\", axis=\"columns\", inplace=True)\n",
    "copy.drop(labels=\"Black\", axis=\"columns\", inplace=True)\n",
    "copy.dropna(axis=\"index\", how=\"any\", inplace=True)\n",
    "copy.info()\n"
   ]
  },
  {
   "cell_type": "code",
   "execution_count": 15,
   "metadata": {},
   "outputs": [
    {
     "name": "stdout",
     "output_type": "stream",
     "text": [
      "58280 14571\n",
      "           TractId  TotalPop      ...       FamilyWork  Unemployment\n",
      "34510  26131970300      1867      ...              0.7          12.1\n",
      "39067  30063001302      6307      ...              0.0           4.0\n",
      "47211  36087013300      2574      ...              0.0           1.2\n",
      "52691  39113021301      2700      ...              0.0           8.6\n",
      "38631  29189217943      3329      ...              0.0           4.9\n",
      "\n",
      "[5 rows x 24 columns]\n",
      "           TractId  TotalPop      ...       FamilyWork  Unemployment\n",
      "12595   8069002503      3191      ...              1.1           2.6\n",
      "22109  17031819500      3356      ...              0.0           3.1\n",
      "70545  53053073121      4658      ...              0.0           6.4\n",
      "36602  27137001800      1828      ...              0.0           4.9\n",
      "36426  27123030800      5253      ...              0.0           7.6\n",
      "\n",
      "[5 rows x 24 columns]\n"
     ]
    }
   ],
   "source": [
    "from sklearn.model_selection import train_test_split\n",
    "train_set, test_set = train_test_split(copy, test_size=0.2, random_state=123)\n",
    "print(len(train_set), len(test_set))\n",
    "print(train_set.head())\n",
    "print(test_set.head())"
   ]
  }
 ],
 "metadata": {
  "kernelspec": {
   "display_name": "Python 3 (Spyder)",
   "language": "python3",
   "name": "python3"
  },
  "language_info": {
   "codemirror_mode": {
    "name": "ipython",
    "version": 3
   },
   "file_extension": ".py",
   "mimetype": "text/x-python",
   "name": "python",
   "nbconvert_exporter": "python",
   "pygments_lexer": "ipython3",
   "version": "3.7.1"
  }
 },
 "nbformat": 4,
 "nbformat_minor": 2
}
